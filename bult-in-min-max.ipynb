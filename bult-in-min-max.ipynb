{
 "cells": [
  {
   "cell_type": "code",
   "execution_count": 4,
   "id": "553d56d8-2553-4e52-b020-f355a98b0070",
   "metadata": {},
   "outputs": [],
   "source": [
    "def maximum(value1, value2, value3):\n",
    "    \"\"\"Return the maximum value of three values.\"\"\"\n",
    "    max_value = value1\n",
    "    if value2 > max_value:\n",
    "        max_value = value2\n",
    "    if value3 > max_value:\n",
    "        max_value = value3\n",
    "    return max_value"
   ]
  },
  {
   "cell_type": "code",
   "execution_count": 5,
   "id": "346447b1-5c41-4890-9228-0af5fa444692",
   "metadata": {},
   "outputs": [
    {
     "data": {
      "text/plain": [
       "36"
      ]
     },
     "execution_count": 5,
     "metadata": {},
     "output_type": "execute_result"
    }
   ],
   "source": [
    "maximum(12, 27, 36)"
   ]
  },
  {
   "cell_type": "code",
   "execution_count": 6,
   "id": "d984653e-1468-4451-86e6-5085cf023d0c",
   "metadata": {},
   "outputs": [
    {
     "data": {
      "text/plain": [
       "45.6"
      ]
     },
     "execution_count": 6,
     "metadata": {},
     "output_type": "execute_result"
    }
   ],
   "source": [
    "maximum (12.3, 45.6, 9.7)"
   ]
  },
  {
   "cell_type": "code",
   "execution_count": 7,
   "id": "fdb1cebc-2578-4a84-aeb0-3f2fcabb7f1b",
   "metadata": {},
   "outputs": [
    {
     "data": {
      "text/plain": [
       "'yellow'"
      ]
     },
     "execution_count": 7,
     "metadata": {},
     "output_type": "execute_result"
    }
   ],
   "source": [
    "maximum('yellow', 'red', 'orange')"
   ]
  },
  {
   "cell_type": "code",
   "execution_count": 8,
   "id": "635310e1-ddce-4af7-b0be-800ebe4a4906",
   "metadata": {},
   "outputs": [
    {
     "data": {
      "text/plain": [
       "9"
      ]
     },
     "execution_count": 8,
     "metadata": {},
     "output_type": "execute_result"
    }
   ],
   "source": [
    "min(15,9,27,14)"
   ]
  }
 ],
 "metadata": {
  "kernelspec": {
   "display_name": "Python 3 (ipykernel)",
   "language": "python",
   "name": "python3"
  },
  "language_info": {
   "codemirror_mode": {
    "name": "ipython",
    "version": 3
   },
   "file_extension": ".py",
   "mimetype": "text/x-python",
   "name": "python",
   "nbconvert_exporter": "python",
   "pygments_lexer": "ipython3",
   "version": "3.9.12"
  }
 },
 "nbformat": 4,
 "nbformat_minor": 5
}
