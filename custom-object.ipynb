{
 "cells": [
  {
   "cell_type": "code",
   "execution_count": 2,
   "id": "fdfe161e-7f88-4fc9-b0cf-03b2dd0351ba",
   "metadata": {},
   "outputs": [],
   "source": [
    "# Python Object representing a purchase for a given amount"
   ]
  },
  {
   "cell_type": "code",
   "execution_count": 4,
   "id": "012c7887-0c4d-4827-a83b-ab6671f4bf1d",
   "metadata": {},
   "outputs": [],
   "source": [
    "class Purchase(object):\n",
    "    def __init__(self, amount):\n",
    "        self.amount = amount\n",
    "        \n",
    "    def calculateTax(self, taxPercent):\n",
    "        return self.amount * taxPercent/100.0\n",
    "    \n",
    "    def calculateTip(self, tipPercent):\n",
    "        return self.amount * tipPercent/100.0\n",
    "    \n",
    "    def calculateTotal(self, taxPercent, tipPercent):\n",
    "        return self.amount * (1 + taxPercent/100.0 + tipPercent/100.0)\n",
    "    "
   ]
  },
  {
   "cell_type": "code",
   "execution_count": 5,
   "id": "f2b9ed7f-4e3d-4178-b813-c5a67e6322c8",
   "metadata": {},
   "outputs": [],
   "source": [
    "# Create Purchase object given an amount\n",
    "purchase = Purchase(100.0)"
   ]
  },
  {
   "cell_type": "code",
   "execution_count": 6,
   "id": "5baba8a2-4453-412c-8eda-d1052bf0a72b",
   "metadata": {},
   "outputs": [],
   "source": [
    "# Set the tax and tip percentages\n",
    "taxPercent = 7.5\n",
    "tipPercent = 20.0"
   ]
  },
  {
   "cell_type": "code",
   "execution_count": 7,
   "id": "3b553b76-eb3b-422e-ad85-0e09a5bd48b3",
   "metadata": {},
   "outputs": [],
   "source": [
    "# Use the object to calculate tax and tip\n",
    "tax = purchase.calculateTax(taxPercent)\n",
    "tip = purchase.calculateTip(tipPercent)"
   ]
  },
  {
   "cell_type": "code",
   "execution_count": 8,
   "id": "028ae17f-5249-4e18-9974-436879420d0c",
   "metadata": {},
   "outputs": [
    {
     "name": "stdout",
     "output_type": "stream",
     "text": [
      "Tax:  7.5\n",
      "Tip:  20.0\n",
      "Total: 127.49999999999999\n"
     ]
    }
   ],
   "source": [
    "# Display some useful information\n",
    "print ('Tax: ', tax)\n",
    "print ('Tip: ', tip)\n",
    "print ('Total:', purchase.calculateTotal(taxPercent, tipPercent))"
   ]
  }
 ],
 "metadata": {
  "kernelspec": {
   "display_name": "Python 3 (ipykernel)",
   "language": "python",
   "name": "python3"
  },
  "language_info": {
   "codemirror_mode": {
    "name": "ipython",
    "version": 3
   },
   "file_extension": ".py",
   "mimetype": "text/x-python",
   "name": "python",
   "nbconvert_exporter": "python",
   "pygments_lexer": "ipython3",
   "version": "3.9.12"
  }
 },
 "nbformat": 4,
 "nbformat_minor": 5
}
