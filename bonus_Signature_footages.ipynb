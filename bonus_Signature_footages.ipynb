{
 "cells": [
  {
   "cell_type": "code",
   "execution_count": 1,
   "id": "81926068-1f19-45bc-ad4a-7cdecd6e3a1b",
   "metadata": {},
   "outputs": [],
   "source": [
    "import statistics"
   ]
  },
  {
   "cell_type": "code",
   "execution_count": 2,
   "id": "ffa1d3b0-1d20-4a2c-89d2-9e4da85ae80c",
   "metadata": {},
   "outputs": [
    {
     "data": {
      "text/plain": [
       "31.474480151228732"
      ]
     },
     "execution_count": 2,
     "metadata": {},
     "output_type": "execute_result"
    }
   ],
   "source": [
    "statistics.pvariance([4,8,3,7,12,4,16,20,17,15,11,12,4,4,4,8,12,20,14,4,3,2,8,4,8,3,7,12,4,16,20,17,15,11,12,4,4,4,8,12,20,14,4,3,2,8,4,8,3,7,12,4,16,20,17,15,11,12,4,4,4,8,12,20,14,4,3,2,8,4,8,3,7,12,4,16,20,17,15,11,12,4,4,4,8,12,20,14,4,3,2,8,4,8,3,7,12,4,16,20,17,15,11,12,4,4,4,8,12,20,14,4,3,2,8,])"
   ]
  },
  {
   "cell_type": "code",
   "execution_count": 3,
   "id": "8de4b3e4-8161-4b2f-8231-6aa71493e10e",
   "metadata": {},
   "outputs": [
    {
     "data": {
      "text/plain": [
       "5.610212130679974"
      ]
     },
     "execution_count": 3,
     "metadata": {},
     "output_type": "execute_result"
    }
   ],
   "source": [
    "statistics.pstdev([4,8,3,7,12,4,16,20,17,15,11,12,4,4,4,8,12,20,14,4,3,2,8,4,8,3,7,12,4,16,20,17,15,11,12,4,4,4,8,12,20,14,4,3,2,8,4,8,3,7,12,4,16,20,17,15,11,12,4,4,4,8,12,20,14,4,3,2,8,4,8,3,7,12,4,16,20,17,15,11,12,4,4,4,8,12,20,14,4,3,2,8,4,8,3,7,12,4,16,20,17,15,11,12,4,4,4,8,12,20,14,4,3,2,8,])"
   ]
  }
 ],
 "metadata": {
  "kernelspec": {
   "display_name": "Python 3 (ipykernel)",
   "language": "python",
   "name": "python3"
  },
  "language_info": {
   "codemirror_mode": {
    "name": "ipython",
    "version": 3
   },
   "file_extension": ".py",
   "mimetype": "text/x-python",
   "name": "python",
   "nbconvert_exporter": "python",
   "pygments_lexer": "ipython3",
   "version": "3.9.12"
  }
 },
 "nbformat": 4,
 "nbformat_minor": 5
}
