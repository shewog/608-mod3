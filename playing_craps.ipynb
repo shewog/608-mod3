{
 "cells": [
  {
   "cell_type": "code",
   "execution_count": 11,
   "id": "edcdbf44-eaf5-47d1-9d8c-236b7dc83e1c",
   "metadata": {},
   "outputs": [
    {
     "data": {
      "text/plain": [
       "'Roll TWO six-sided dice 6 million times.'"
      ]
     },
     "execution_count": 11,
     "metadata": {},
     "output_type": "execute_result"
    }
   ],
   "source": [
    "# playing craps\n",
    "\"\"\"Roll TWO six-sided dice 6 million times.\"\"\""
   ]
  },
  {
   "cell_type": "code",
   "execution_count": 20,
   "id": "026390ae-c6d1-4646-9e64-0edc57000750",
   "metadata": {},
   "outputs": [],
   "source": [
    "import random"
   ]
  },
  {
   "cell_type": "code",
   "execution_count": 13,
   "id": "d48a28db-430e-4cf7-a25f-2bfe0a6b9f54",
   "metadata": {},
   "outputs": [],
   "source": [
    "# Face frequency counters - 1 through 12"
   ]
  },
  {
   "cell_type": "code",
   "execution_count": 30,
   "id": "7c5162dd-66fa-4d75-a343-3b493d2fa95d",
   "metadata": {},
   "outputs": [],
   "source": [
    "frequency2 = 0\n",
    "frequency3 = 0\n",
    "frequency4 = 0\n",
    "frequency5 = 0\n",
    "frequency6 = 0\n",
    "frequency7 = 0\n",
    "frequency8 = 0\n",
    "frequency9 = 0\n",
    "frequency10 = 0\n",
    "frequency11 = 0\n",
    "frequency12 = 0"
   ]
  },
  {
   "cell_type": "code",
   "execution_count": 26,
   "id": "ea6a749a-e99b-4b79-ab3f-48967babbcc6",
   "metadata": {},
   "outputs": [],
   "source": [
    "trials = 6000"
   ]
  },
  {
   "cell_type": "code",
   "execution_count": 16,
   "id": "dcb1fcb1-7fc6-468e-9a13-6e89e59a61bd",
   "metadata": {},
   "outputs": [],
   "source": [
    "# simulate rolls"
   ]
  },
  {
   "cell_type": "code",
   "execution_count": 27,
   "id": "30471170-bb7c-45a9-8e82-4c6153a4618b",
   "metadata": {},
   "outputs": [],
   "source": [
    "for roll in range(trials):\n",
    "    face = random.randrange(1,7) + random.randrange(1,7)"
   ]
  },
  {
   "cell_type": "code",
   "execution_count": 31,
   "id": "f75be740-5ba8-4e86-96a3-b00180b05c07",
   "metadata": {},
   "outputs": [],
   "source": [
    "# increment appropriate counter\n",
    "if face == 2:\n",
    "    frequency2 += 1\n",
    "elif face == 3:\n",
    "    frequency3 += 1\n",
    "elif face == 4:\n",
    "    frequency4 += 1\n",
    "elif face == 5:\n",
    "    frequency5 += 1\n",
    "elif face == 6:\n",
    "    frequency6 += 1\n",
    "elif face == 7:\n",
    "    frequency7 += 1\n",
    "elif face == 8:\n",
    "    frequency8 += 1\n",
    "elif face == 9:\n",
    "    frequency9 += 1\n",
    "elif face == 10:\n",
    "    frequency10 += 1\n",
    "elif face == 11:\n",
    "    frequency11 += 1\n",
    "elif face == 12:\n",
    "    frequency12 += 1"
   ]
  },
  {
   "cell_type": "code",
   "execution_count": 32,
   "id": "98f65dec-58e5-46ee-807f-a6a426625b07",
   "metadata": {},
   "outputs": [
    {
     "name": "stdout",
     "output_type": "stream",
     "text": [
      "Face    Frequency\n",
      "   2            0\n",
      "   3            0\n",
      "   4            0\n",
      "   5            0\n",
      "   6            0\n",
      "   7            1\n",
      "   8            0\n",
      "   9            0\n",
      "  10            0\n",
      "  11            0\n",
      "  12            0\n",
      "Craps: 0.0\n",
      "Win: 0.00016666666666666666\n"
     ]
    }
   ],
   "source": [
    "print(f'Face{\"Frequency\":>13}')\n",
    "print(f'{2:>4}{frequency2:>13}')\n",
    "print(f'{3:>4}{frequency3:>13}')\n",
    "print(f'{4:>4}{frequency4:>13}')\n",
    "print(f'{5:>4}{frequency5:>13}')\n",
    "print(f'{6:>4}{frequency6:>13}')\n",
    "print(f'{7:>4}{frequency7:>13}')\n",
    "print(f'{8:>4}{frequency8:>13}')\n",
    "print(f'{9:>4}{frequency9:>13}')\n",
    "print(f'{10:>4}{frequency10:>13}')\n",
    "print(f'{11:>4}{frequency11:>13}')\n",
    "print(f'{12:>4}{frequency12:>13}')\n",
    "\n",
    "craps = frequency2+frequency3+frequency12\n",
    "win = frequency7+frequency11\n",
    "print ('Craps:', craps/trials)\n",
    "print ('Win:', win/trials)"
   ]
  },
  {
   "cell_type": "code",
   "execution_count": null,
   "id": "871bc047-5381-46bc-b9e3-bbe26db3cea2",
   "metadata": {},
   "outputs": [],
   "source": []
  }
 ],
 "metadata": {
  "kernelspec": {
   "display_name": "Python 3 (ipykernel)",
   "language": "python",
   "name": "python3"
  },
  "language_info": {
   "codemirror_mode": {
    "name": "ipython",
    "version": 3
   },
   "file_extension": ".py",
   "mimetype": "text/x-python",
   "name": "python",
   "nbconvert_exporter": "python",
   "pygments_lexer": "ipython3",
   "version": "3.9.12"
  }
 },
 "nbformat": 4,
 "nbformat_minor": 5
}
